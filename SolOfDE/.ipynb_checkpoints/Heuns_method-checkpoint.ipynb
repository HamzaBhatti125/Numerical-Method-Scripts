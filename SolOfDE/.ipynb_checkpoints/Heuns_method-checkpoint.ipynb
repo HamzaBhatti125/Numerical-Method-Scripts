{
 "cells": [
  {
   "cell_type": "code",
   "execution_count": 1,
   "metadata": {},
   "outputs": [
    {
     "data": {
      "image/png": "[encoded data removed]",
      "text/plain": [
       "<Figure size 432x288 with 1 Axes>"
      ]
     },
     "metadata": {
      "needs_background": "light"
     },
     "output_type": "display_data"
    },
    {
     "name": "stdout",
     "output_type": "stream",
     "text": [
      "All the points in VectorX [0, 0.5, 1.0, 1.5, 2.0, 2.5, 3.0, 3.5, 4.0, 4.5, 5.0, 5.5, 6.0, 6.5, 7.0, 7.5, 8.0, 8.5, 9.0, 9.5, 10.0]\n",
      "All the points in VectorY [1, 1.3765625, 1.7558715820312498, 2.1376053810119626, 2.521479750424623, 2.9072438421717375, 3.294676204417237, 3.683581336712092, 4.073786648816144, 4.4651397759080025, 4.8575062084187834, 5.250767199619707, 5.644817918414272, 6.0395658186001, 6.434929199232901, 6.830835933697795, 7.227222347717585, 7.62403222884443, 8.021215952026724, 8.418729707648593, 8.816534820033523]\n"
     ]
    }
   ],
   "source": [
    "import matplotlib.pyplot as plt\n",
    "import math\n",
    "def NewX(x0,h):\n",
    "    x2=x0+h #The next X\n",
    "    return x2\n",
    "def func(x,y):\n",
    "    return 1 - 0.25*y + 0.2*x #Please put the function here\n",
    "\n",
    "def Predictor(x,y,h):\n",
    "    y_pre=y+h*(func(x,y))\n",
    "    return y_pre\n",
    "\n",
    "def corrector(x1,y1,h,xend):\n",
    "    vectorX=list() #Vector X to display the graph\n",
    "    vectorY=list() #Vector Y to display the graph\n",
    "    while(x1<=xend):\n",
    "        x_next=NewX(x1,h)\n",
    "        pre = func(x1, y1) #Insert the current X and Y into the current function\n",
    "        nextOne=func(x_next,Predictor(x1,y1,h))#We'll take the next X, and the Predictor Y\n",
    "        y_cor= y1+ h/2*(pre+nextOne)#We'll get average and get better accuracy\n",
    "        vectorX.append(x1)#Enter x into the x vector\n",
    "        vectorY.append(y1)#Enter y into the y vector\n",
    "        x1=x_next #We will switch between the current X and the next X\n",
    "        y1=y_cor #We will switch between the current Y and the next Y\n",
    "    plt.axis([0,5, 0,20])#Displays the graph\n",
    "    plt.plot(vectorX,vectorY,'bo-')\n",
    "    plt.show()\n",
    "    print(\"All the points in VectorX\",vectorX)\n",
    "    print(\"All the points in VectorY\",vectorY)\n",
    "\n",
    "\n",
    "corrector(0,1,0.5,10)\n",
    "#data entry corrector(x start,y start,jump h,x end)"
   ]
  },
  {
   "cell_type": "code",
   "execution_count": null,
   "metadata": {},
   "outputs": [],
   "source": []
  }
 ],
 "metadata": {
  "kernelspec": {
   "display_name": "Python 3",
   "language": "python",
   "name": "python3"
  },
  "language_info": {
   "codemirror_mode": {
    "name": "ipython",
    "version": 3
   },
   "file_extension": ".py",
   "mimetype": "text/x-python",
   "name": "python",
   "nbconvert_exporter": "python",
   "pygments_lexer": "ipython3",
   "version": "3.8.5"
  }
 },
 "nbformat": 4,
 "nbformat_minor": 4
}
