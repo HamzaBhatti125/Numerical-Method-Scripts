{
 "cells": [
  {
   "cell_type": "markdown",
   "metadata": {},
   "source": [
    "## Euler's method"
   ]
  },
  {
   "cell_type": "code",
   "execution_count": 1,
   "metadata": {},
   "outputs": [
    {
     "name": "stdout",
     "output_type": "stream",
     "text": [
      "Enter initial conditions:\n",
      "x0 = 1\n",
      "y0 = 1\n",
      "Enter calculation point: \n",
      "xn = 2\n",
      "Enter number of steps:\n",
      "Number of steps = 10\n",
      "\n",
      "-----------SOLUTION-----------\n",
      "------------------------------\n",
      "x0\ty0\tslope\tyn\n",
      "------------------------------\n",
      "1.0000\t1.0000\t3.0000\t1.3000\n",
      "------------------------------\n",
      "1.1000\t1.3000\t3.6000\t1.6600\n",
      "------------------------------\n",
      "1.2000\t1.6600\t4.3200\t2.0920\n",
      "------------------------------\n",
      "1.3000\t2.0920\t5.1840\t2.6104\n",
      "------------------------------\n",
      "1.4000\t2.6104\t6.2208\t3.2325\n",
      "------------------------------\n",
      "1.5000\t3.2325\t7.4650\t3.9790\n",
      "------------------------------\n",
      "1.6000\t3.9790\t8.9580\t4.8748\n",
      "------------------------------\n",
      "1.7000\t4.8748\t10.7495\t5.9497\n",
      "------------------------------\n",
      "1.8000\t5.9497\t12.8995\t7.2397\n",
      "------------------------------\n",
      "1.9000\t7.2397\t15.4793\t8.7876\n",
      "------------------------------\n",
      "\n",
      "At x=2.0000, y=8.7876\n"
     ]
    }
   ],
   "source": [
    "\n",
    "def f(x,y):\n",
    "    return 1+(2*y)\n",
    "\n",
    "def euler(x0,y0,xn,n):\n",
    "    \n",
    "    # Calculating step size\n",
    "    h = (xn-x0)/n\n",
    "    \n",
    "    print('\\n-----------SOLUTION-----------')\n",
    "    print('------------------------------')    \n",
    "    print('x0\\ty0\\tslope\\tyn')\n",
    "    print('------------------------------')\n",
    "    for i in range(n):\n",
    "        slope = f(x0, y0)\n",
    "        yn = y0 + h * slope\n",
    "        print('%.4f\\t%.4f\\t%0.4f\\t%.4f'% (x0,y0,slope,yn) )\n",
    "        print('------------------------------')\n",
    "        y0 = yn\n",
    "        x0 = x0+h\n",
    "    \n",
    "    print('\\nAt x=%.4f, y=%.4f' %(xn,yn))\n",
    "\n",
    "\n",
    "print('Enter initial conditions:')\n",
    "x0 = float(input('x0 = '))\n",
    "y0 = float(input('y0 = '))\n",
    "\n",
    "print('Enter calculation point: ')\n",
    "xn = float(input('xn = '))\n",
    "\n",
    "print('Enter number of steps:')\n",
    "step = int(input('Number of steps = '))\n",
    "\n",
    "euler(x0,y0,xn,step)"
   ]
  },
  {
   "cell_type": "code",
   "execution_count": null,
   "metadata": {},
   "outputs": [],
   "source": []
  }
 ],
 "metadata": {
  "kernelspec": {
   "display_name": "Python 3",
   "language": "python",
   "name": "python3"
  },
  "language_info": {
   "codemirror_mode": {
    "name": "ipython",
    "version": 3
   },
   "file_extension": ".py",
   "mimetype": "text/x-python",
   "name": "python",
   "nbconvert_exporter": "python",
   "pygments_lexer": "ipython3",
   "version": "3.8.5"
  }
 },
 "nbformat": 4,
 "nbformat_minor": 4
}
