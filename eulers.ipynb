{
 "cells": [
  {
   "cell_type": "markdown",
   "metadata": {},
   "source": [
    "## Euler's method"
   ]
  },
  {
   "cell_type": "code",
   "execution_count": 2,
   "metadata": {},
   "outputs": [
    {
     "name": "stdout",
     "output_type": "stream",
     "text": [
      "Enter initial conditions:\n",
      "x0 = 0\n",
      "y0 = 0\n",
      "Enter calculation point: \n",
      "xn = 1\n",
      "Enter number of steps:\n",
      "Number of steps = 4\n",
      "\n",
      "-----------SOLUTION-----------\n",
      "------------------------------\n",
      "x0\ty0\tslope\tyn\n",
      "------------------------------\n",
      "0.0000\t0.0000\t1.0000\t0.2500\n",
      "------------------------------\n",
      "0.2500\t0.2500\t1.2500\t0.5625\n",
      "------------------------------\n",
      "0.5000\t0.5625\t1.5625\t0.9531\n",
      "------------------------------\n",
      "0.7500\t0.9531\t1.9531\t1.4414\n",
      "------------------------------\n",
      "\n",
      "At x=1.0000, y=1.4414\n"
     ]
    }
   ],
   "source": [
    "\n",
    "def f(x,y):\n",
    "    return 1+y\n",
    "\n",
    "def euler(x0,y0,xn,n):\n",
    "    \n",
    "    # Calculating step size\n",
    "    h = (xn-x0)/n\n",
    "    \n",
    "    print('\\n-----------SOLUTION-----------')\n",
    "    print('------------------------------')    \n",
    "    print('x0\\ty0\\tslope\\tyn')\n",
    "    print('------------------------------')\n",
    "    for i in range(n):\n",
    "        slope = f(x0, y0)\n",
    "        yn = y0 + h * slope\n",
    "        print('%.4f\\t%.4f\\t%0.4f\\t%.4f'% (x0,y0,slope,yn) )\n",
    "        print('------------------------------')\n",
    "        y0 = yn\n",
    "        x0 = x0+h\n",
    "    \n",
    "    print('\\nAt x=%.4f, y=%.4f' %(xn,yn))\n",
    "\n",
    "\n",
    "print('Enter initial conditions:')\n",
    "x0 = float(input('x0 = '))\n",
    "y0 = float(input('y0 = '))\n",
    "\n",
    "print('Enter calculation point: ')\n",
    "xn = float(input('xn = '))\n",
    "\n",
    "print('Enter number of steps:')\n",
    "step = int(input('Number of steps = '))\n",
    "\n",
    "euler(x0,y0,xn,step)"
   ]
  },
  {
   "cell_type": "code",
   "execution_count": null,
   "metadata": {},
   "outputs": [],
   "source": []
  }
 ],
 "metadata": {
  "kernelspec": {
   "display_name": "Python 3",
   "language": "python",
   "name": "python3"
  },
  "language_info": {
   "codemirror_mode": {
    "name": "ipython",
    "version": 3
   },
   "file_extension": ".py",
   "mimetype": "text/x-python",
   "name": "python",
   "nbconvert_exporter": "python",
   "pygments_lexer": "ipython3",
   "version": "3.8.5"
  }
 },
 "nbformat": 4,
 "nbformat_minor": 4
}
